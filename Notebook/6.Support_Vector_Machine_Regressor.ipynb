{
 "cells": [
  {
   "cell_type": "markdown",
   "metadata": {},
   "source": [
    "SUPPORT VECTOR REGRESSOR.\n",
    "\n",
    "SVR is a type of support vector machine that is designed to carry out regression tasks. Its a suppervised machine learning algorithm that uses a hyperplane to determine class/value of an unknown value. Its comparable to a line of best fit in linear regression, it a line that gives the largest separation between classes. Given a set of datapoints (dimensional vector) belonging to two classes(red and blue below), a linear classifier is generated to separate them into different classes. Multiple hyperplanes are drawn but one that represents the largest margin is selected. In diagram below, H2 best separates the two groups as compared to H1. The distance between this line, illustrated by short blue connecting data points to H2, and the closest data point, circled in diagram, on either classes is maximised, these points are claled support vectors and guide drawing of a boundary differentiating classes. The best hyperplane is one with the largest distance to the nearest training data point of any class, resulting to a lower generalisation error and inturn low risk pof overfitting.     \n",
    "\n",
    "<center><img src=\"../images/Support_vector_machine.png\" width=600px height=400px /></center>\n",
    "\n",
    "In this example, we will implementation Support Vector Regression (SVM) in predicting voter turnout for 2020 elections in the US counties based on a set of predictor varaiables such as historical turn out data, county population, household income , poverty levels just but a few. We will train the model to understan the relationship between these variables and voter turnout then have the model predict an unseen data.  "
   ]
  },
  {
   "cell_type": "code",
   "execution_count": 1,
   "metadata": {},
   "outputs": [],
   "source": [
    "# Import Required libraries. \n",
    "import pandas as pd \n",
    "import geopandas as gpd \n",
    "import numpy as np\n",
    "import matplotlib.pyplot as plt\n",
    "import seaborn as sns"
   ]
  }
 ],
 "metadata": {
  "kernelspec": {
   "display_name": "Python 3",
   "language": "python",
   "name": "python3"
  },
  "language_info": {
   "codemirror_mode": {
    "name": "ipython",
    "version": 3
   },
   "file_extension": ".py",
   "mimetype": "text/x-python",
   "name": "python",
   "nbconvert_exporter": "python",
   "pygments_lexer": "ipython3",
   "version": "3.12.2"
  }
 },
 "nbformat": 4,
 "nbformat_minor": 2
}
