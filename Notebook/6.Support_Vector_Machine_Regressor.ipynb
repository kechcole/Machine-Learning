{
 "cells": [
  {
   "cell_type": "markdown",
   "metadata": {},
   "source": [
    "SUPPORT VECTOR REGRESSOR.\n",
    "\n",
    "SVR is a type of support vector machine that is designed to carry out regression tasks. Its a suppervised machine learning algorithm that uses a hyperplane to determine class/value of an unknown value. Its comparable to a line of best fit in linear regression, it a line that gives the largest separation between classes. Given a set of datapoints (dimensional vector) belonging to two classes, a linear classifier is generated to separate them into different classes. Multiple hyperplanes are drawn but one that represents the largest margin is selected. The distance between this line and the closest data point on either classes is maximised.    "
   ]
  },
  {
   "cell_type": "code",
   "execution_count": 1,
   "metadata": {},
   "outputs": [],
   "source": [
    "# Import Required libraries. \n",
    "import pandas as pd \n",
    "import geopandas as gpd \n",
    "import numpy as np\n",
    "import matplotlib.pyplot as plt\n",
    "import seaborn as sns"
   ]
  }
 ],
 "metadata": {
  "kernelspec": {
   "display_name": "Python 3",
   "language": "python",
   "name": "python3"
  },
  "language_info": {
   "codemirror_mode": {
    "name": "ipython",
    "version": 3
   },
   "file_extension": ".py",
   "mimetype": "text/x-python",
   "name": "python",
   "nbconvert_exporter": "python",
   "pygments_lexer": "ipython3",
   "version": "3.12.2"
  }
 },
 "nbformat": 4,
 "nbformat_minor": 2
}
