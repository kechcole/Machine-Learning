{
 "cells": [
  {
   "cell_type": "markdown",
   "metadata": {},
   "source": [
    "# LINEAR REGRESSION.\n",
    "\n",
    "THis is a ML algorith that is used to predict a single variable using another variable. The former is the dependent variable while the later which is used to predict is the independent variable. Linear algorith fits a line that optimises errors such that there is extremely minor descripancies between the predicted value and actual output value. Using the \"least square\" method the algorithm generate a line that fits best in paired datasets. \n",
    "\n"
   ]
  },
  {
   "cell_type": "code",
   "execution_count": null,
   "metadata": {},
   "outputs": [],
   "source": []
  }
 ],
 "metadata": {
  "language_info": {
   "name": "python"
  }
 },
 "nbformat": 4,
 "nbformat_minor": 2
}
