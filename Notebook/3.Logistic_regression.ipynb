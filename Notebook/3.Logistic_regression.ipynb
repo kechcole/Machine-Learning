{
 "cells": [
  {
   "cell_type": "markdown",
   "metadata": {},
   "source": [
    "# LOGISTIC REGRESSION. \n",
    "\n",
    "This is a supervied machine learning algorithm that aims at predicting a category or class an entity belongs to. Logistic regression is a classification problem that can take two forms ; binomial/binary classification where there are two classes or multinomial/multiclass where outputs are three or more classes. While regression problems have continous variable outputs (unbounded) , classification analysis have discrete outcomes. \n",
    "\n",
    "Example of logistic regressions include : \n",
    "* Predicting whether an email is spam or not\n",
    "* image recognition , determine whether an image is a dog or human\n",
    "* predicting whether an employee will be promoted or not based on predioctors such as experience, education\n",
    "* determining credit scores \n",
    "* predicting whether a patient has heat disease or not\n",
    "\n",
    "The sigmoid function has values are either 1 or 0 or others very close to them, this property makes it suitable for use in logistic resression analysis problems. \n",
    "\n",
    "## Problem formulation. \n",
    "In this tutorial we will see how this algorith is used to predict heart disease (dependent variable, 𝑦ᵢ) given a set of predictor features (independent variables, 𝐱ᵢ) for observations 𝑖 = 1, ...., n. Like linear regression we start with a set of known values of predictors 𝐱ᵢ for corressponding value 𝑦ᵢ given observations 𝑖 = 1, .... , n. \n",
    "\n",
    "Our goal is to find a function p(x) such that predictor input p(x) is a s close as possible to actual values of 𝑦ᵢ in each observations in 𝑖. Expected values are values close to 0 or 1(actual responses). Assuming that the mathematicl dependence between training data and useen data is unchanged, the function will easily predict. \n",
    "\n",
    "Logistic regression is a linear classifier that uses a function called `logit` : \n",
    "                \n",
    "                𝑓(𝐱) = 𝑏₀ + 𝑏₁𝑥₁ + ⋯ + 𝑏ₙ𝑥ₙ u\n",
    "\n",
    "                𝑝(𝐱) = 1 / (1 + exp(−𝑓(𝐱))\n",
    "            \n",
    "* 𝑏₀ , 𝑏₁ and  𝑏ᵣ are estimators of the regression coefficient, also called predicted weights.\n",
    "* 𝑥₁ , 𝑥ₙ are predictor variables \n",
    "* 𝑝(𝐱) is the logistic function , which is the sigmoid function of 𝑓(𝐱)\n",
    "\n",
    "\n",
    "This estimator optimises estimators/weights to ensure that predicted values are close to actual values using test dataset. This process is called model fitting. Once these values are found, a predicted value 𝑝(𝐱ᵢ) given an input 𝐱ᵢ can be determines easily. A threshold is set at 0.5 such that for each observation 𝑖, if value (𝑓(𝐱)) is 0.5 or greater predicted value is set to 1 ,else 0. Threshold is varied depending on use needs. So how do we end up with values 1 or 0, remember  𝑓(𝐱) is the logit function, where 𝑓(𝐱) = log(𝑝(𝐱) / (1 − 𝑝(𝐱))) . "
   ]
  },
  {
   "cell_type": "code",
   "execution_count": 1,
   "metadata": {},
   "outputs": [],
   "source": [
    "# Import modules \n",
    "import pandas as pd \n",
    "import numpy as np\n",
    "import matplotlib.pyplot as plt\n",
    "from sklearn.model_selection import train_test_split\n",
    "from sklearn.linear_model import LogisticRegression\n",
    "from sklearn.metrics import r2_score"
   ]
  },
  {
   "cell_type": "code",
   "execution_count": 18,
   "metadata": {},
   "outputs": [
    {
     "name": "stdout",
     "output_type": "stream",
     "text": [
      "data sample :    Unnamed: 0  Age  Sex     ChestPain  RestBP  Chol  Fbs  RestECG  MaxHR  \\\n",
      "0           1   63    1       typical     145   233    1        2    150   \n",
      "1           2   67    1  asymptomatic     160   286    0        2    108   \n",
      "2           3   67    1  asymptomatic     120   229    0        2    129   \n",
      "3           4   37    1    nonanginal     130   250    0        0    187   \n",
      "4           5   41    0    nontypical     130   204    0        2    172   \n",
      "\n",
      "   ExAng  Oldpeak  Slope   Ca        Thal  AHD  \n",
      "0      0      2.3      3  0.0       fixed   No  \n",
      "1      1      1.5      2  3.0      normal  Yes  \n",
      "2      1      2.6      2  2.0  reversable  Yes  \n",
      "3      0      3.5      3  0.0      normal   No  \n",
      "4      0      1.4      1  0.0      normal   No   \n",
      "       data structure : 4545 \n",
      "       data columns : Index(['Unnamed: 0', 'Age', 'Sex', 'ChestPain', 'RestBP', 'Chol', 'Fbs',\n",
      "       'RestECG', 'MaxHR', 'ExAng', 'Oldpeak', 'Slope', 'Ca', 'Thal', 'AHD'],\n",
      "      dtype='object') \n",
      "       data shape (303, 15)\n"
     ]
    }
   ],
   "source": [
    "# Read datset \n",
    "\n",
    "data = pd.read_csv('C:/Users/Admin/Downloads/Heart.csv')\n",
    "\n",
    "print(f'data sample : {data.head()} \\n \\\n",
    "      data structure : {data.size} \\n \\\n",
    "      data columns : {data.columns} \\n \\\n",
    "      data shape {data.shape}')"
   ]
  },
  {
   "cell_type": "code",
   "execution_count": 19,
   "metadata": {},
   "outputs": [
    {
     "name": "stdout",
     "output_type": "stream",
     "text": [
      "Missing data : Unnamed: 0    0\n",
      "Age           0\n",
      "Sex           0\n",
      "ChestPain     0\n",
      "RestBP        0\n",
      "Chol          0\n",
      "Fbs           0\n",
      "RestECG       0\n",
      "MaxHR         0\n",
      "ExAng         0\n",
      "Oldpeak       0\n",
      "Slope         0\n",
      "Ca            4\n",
      "Thal          2\n",
      "AHD           0\n",
      "dtype: int64\n",
      "\n",
      "\n",
      " Missing data : Unnamed: 0    0\n",
      "Age           0\n",
      "Sex           0\n",
      "ChestPain     0\n",
      "RestBP        0\n",
      "Chol          0\n",
      "Fbs           0\n",
      "RestECG       0\n",
      "MaxHR         0\n",
      "ExAng         0\n",
      "Oldpeak       0\n",
      "Slope         0\n",
      "Ca            0\n",
      "Thal          0\n",
      "AHD           0\n",
      "dtype: int64\n"
     ]
    }
   ],
   "source": [
    "# Explore data \n",
    "\n",
    "print(f'Missing data : {data.isnull().sum()}\\n')\n",
    "\n",
    "# Drop missing data \n",
    "new_data = data.dropna(axis=0, how='any')\n",
    "print(f'\\n Missing data : {new_data.isnull().sum()}')\n",
    "\n",
    "\n"
   ]
  }
 ],
 "metadata": {
  "kernelspec": {
   "display_name": "Python 3",
   "language": "python",
   "name": "python3"
  },
  "language_info": {
   "codemirror_mode": {
    "name": "ipython",
    "version": 3
   },
   "file_extension": ".py",
   "mimetype": "text/x-python",
   "name": "python",
   "nbconvert_exporter": "python",
   "pygments_lexer": "ipython3",
   "version": "3.12.2"
  }
 },
 "nbformat": 4,
 "nbformat_minor": 2
}
