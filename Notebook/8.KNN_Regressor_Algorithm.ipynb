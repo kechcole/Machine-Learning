{
 "cells": [
  {
   "cell_type": "markdown",
   "metadata": {},
   "source": [
    "# KNN REGRESSOR.\n",
    "\n",
    "This is one of the simplest machine learning algorithm that attempts to determine the value of unknown points by the finding the average of near/close data points.  Its a nonparametric method since they do not make assumptions about the existing data in a dimension space, a common assumptions include that data is normally distributed. Given some training data, a KNN regressor attempts to place then into groups/clusters based on an attribute. Now when provided an unknown data point, we determine the GROUP its closest nearest neighbor is and assign the average of that group. \n",
    "\n",
    "* How KNN Regression Works\n",
    "\n",
    "1. **Choosing the number of neighbors (K)**: The initial step involves selecting the number of neighbors, K. This choice greatly affects the model’s performance. A smaller value of K makes the model more prone to noise, whereas a larger value of K results in smoother predictions.\n",
    "2. **Calculating distances**: For a new data point, calculate the distance between this point and all points in the training set.\n",
    "3. **Finding K nearest neighbors**: Identify the K points in the training set that are closest to the new data point.\n",
    "4. **Predicting the target value**: Compute the average of the target values of the K nearest neighbors and use this as the predicted value for the new data point."
   ]
  },
  {
   "cell_type": "code",
   "execution_count": 2,
   "metadata": {},
   "outputs": [],
   "source": [
    "# Import Modules.\n",
    "\n",
    "import pandas as pd \n",
    "import geopandas as gpd \n",
    "import numpy as np\n",
    "import seaborn as sns\n",
    "import matplotlib.pyplot as plt\n",
    "import mapclassify                        # For map classification scheme \n",
    "\n",
    "\n",
    "from sklearn.preprocessing import MinMaxScaler, PolynomialFeatures\n",
    "from sklearn.model_selection import train_test_split, GridSearchCV\n",
    "from sklearn.neighbors import KNeighborsRegressor\n",
    "from sklearn.metrics import mean_squared_error, r2_score\n",
    "from sklearn.pipeline import Pipeline"
   ]
  }
 ],
 "metadata": {
  "kernelspec": {
   "display_name": "Python 3",
   "language": "python",
   "name": "python3"
  },
  "language_info": {
   "codemirror_mode": {
    "name": "ipython",
    "version": 3
   },
   "file_extension": ".py",
   "mimetype": "text/x-python",
   "name": "python",
   "nbconvert_exporter": "python",
   "pygments_lexer": "ipython3",
   "version": "3.12.2"
  }
 },
 "nbformat": 4,
 "nbformat_minor": 2
}
