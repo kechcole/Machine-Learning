{
 "cells": [
  {
   "cell_type": "markdown",
   "metadata": {},
   "source": [
    "# KNN REGRESSOR.\n",
    "\n",
    "This is one of the simplest machine learning algorithm that attempts to determine the value of unknown points by the finding the average of near/close data points.  Its a nonparametric method since they do not make assumptions about the existing data in a dimension space, a common assumptions include that data is normally distributed. Given some training data, a KNN regressor attempts to place then into groups/clusters based on an attribute. Now when provided an unknown data point, we determine the GROUP its closest nearest neighbor is and assign the average of that group. \n",
    "\n",
    "* How KNN Regression Works\n",
    "\n",
    "1. **Choosing the number of neighbors (K)**: The initial step involves selecting the number of neighbors, K. This choice greatly affects the model’s performance. A smaller value of K makes the model more prone to noise, whereas a larger value of K results in smoother predictions.\n",
    "2. **Calculating distances**: For a new data point, calculate the distance between this point and all points in the training set.\n",
    "3. **Finding K nearest neighbors**: Identify the K points in the training set that are closest to the new data point.\n",
    "4. **Predicting the target value**: Compute the average of the target values of the K nearest neighbors and use this as the predicted value for the new data point."
   ]
  },
  {
   "cell_type": "code",
   "execution_count": null,
   "metadata": {
    "vscode": {
     "languageId": "plaintext"
    }
   },
   "outputs": [],
   "source": []
  }
 ],
 "metadata": {
  "language_info": {
   "name": "python"
  }
 },
 "nbformat": 4,
 "nbformat_minor": 2
}
