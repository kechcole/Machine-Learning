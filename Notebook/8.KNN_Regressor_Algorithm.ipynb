{
 "cells": [
  {
   "cell_type": "markdown",
   "metadata": {},
   "source": [
    "# KNN REGRESSOR.\n",
    "\n",
    "This is one of the simplest machine learning algorithm that attempts to determine the value of unknown points by the finding the average of near/close data points.  Its a nonparametric method since they do not make assumptions about the existing data in a dimension space, a common assumptions include that data is normally distributed. Given some training data, a KNN regressor attempts to place then into groups/clusters based on an attribute. Now when provided an unknown data point, we determine the GROUP its closest nearest neighbor is and assign that value.  "
   ]
  },
  {
   "cell_type": "code",
   "execution_count": null,
   "metadata": {},
   "outputs": [],
   "source": []
  }
 ],
 "metadata": {
  "language_info": {
   "name": "python"
  }
 },
 "nbformat": 4,
 "nbformat_minor": 2
}
