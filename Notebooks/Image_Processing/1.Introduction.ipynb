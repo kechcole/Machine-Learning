{
 "cells": [
  {
   "cell_type": "markdown",
   "metadata": {},
   "source": [
    "# OPEN CV2.\n",
    "\n",
    "Opencv is a python wrapper used in machine learning, computer vision, and image processing. This module is commonly used for object detection in images and videos. When intergrated with other open source python libraries such as numpy and  matplotlib it can be optimized for powerful tasks sucj as face and handwritten notes detection.\n",
    "\n",
    "\n",
    "\n",
    "## 1. Basic Operations."
   ]
  },
  {
   "cell_type": "code",
   "execution_count": 19,
   "metadata": {},
   "outputs": [],
   "source": [
    "# Import modules\n",
    "\n",
    "import cv2 \n",
    "import numpy as np \n",
    "import matplotlib as plt\n",
    "\n",
    "import warnings\n",
    "warnings.filterwarnings('ignore')"
   ]
  },
  {
   "cell_type": "code",
   "execution_count": 20,
   "metadata": {},
   "outputs": [
    {
     "name": "stdout",
     "output_type": "stream",
     "text": [
      "[[171 167 163 ... 241 216 201]\n",
      " [170 170 168 ... 237 213 202]\n",
      " [158 167 172 ... 234 213 207]\n",
      " ...\n",
      " [113 119 110 ... 154 162 166]\n",
      " [125 121 120 ... 148 155 158]\n",
      " [122 122 127 ... 146 152 155]]\n"
     ]
    }
   ],
   "source": [
    "# Read cat images. \n",
    "path = \"F:\\Programs\\Secrets of ML\\ML Github\\Machine-Learning\\Data\\Image samples\"\n",
    "\n",
    "#cat1 = cv2.imread(\"Data/Image samples/cat1.png\", 0)\n",
    "#print(cat1.shape())\n",
    "\n",
    "# To read image from disk in grey band \n",
    "img = cv2.imread(path + \"\\calf1.jpg\", 0)\n",
    "print(img)\n",
    " \n"
   ]
  },
  {
   "cell_type": "code",
   "execution_count": 18,
   "metadata": {},
   "outputs": [
    {
     "name": "stdout",
     "output_type": "stream",
     "text": [
      "Current Directory f:\\Programs\\Secrets of ML\\ML Github\\Machine-Learning\\Notebooks\\Image_Processing\n",
      "..\n"
     ]
    }
   ],
   "source": []
  }
 ],
 "metadata": {
  "kernelspec": {
   "display_name": "Python 3",
   "language": "python",
   "name": "python3"
  },
  "language_info": {
   "codemirror_mode": {
    "name": "ipython",
    "version": 3
   },
   "file_extension": ".py",
   "mimetype": "text/x-python",
   "name": "python",
   "nbconvert_exporter": "python",
   "pygments_lexer": "ipython3",
   "version": "3.12.2"
  }
 },
 "nbformat": 4,
 "nbformat_minor": 2
}
