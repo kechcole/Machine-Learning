{
 "cells": [
  {
   "cell_type": "markdown",
   "metadata": {},
   "source": [
    "# OPEN CV2.\n",
    "\n",
    "Opencv is a python wrapper used in machine learning, computer vision, and image processing. This module is commonly used for object detection in images and videos. When intergrated with other open source python libraries such as numpy and  matplotlib it can be optimized for powerful tasks sucj as face and handwritten notes detection.\n",
    "\n",
    "\n",
    "\n",
    "## 1. Basic Operations."
   ]
  },
  {
   "cell_type": "code",
   "execution_count": 1,
   "metadata": {},
   "outputs": [],
   "source": [
    "# Import modules\n",
    "\n",
    "import cv2 \n",
    "import numpy as np \n",
    "import matplotlib as plt\n",
    "from copy import deepcopy\n",
    "\n",
    "import warnings\n",
    "warnings.filterwarnings('ignore')"
   ]
  },
  {
   "cell_type": "code",
   "execution_count": 2,
   "metadata": {},
   "outputs": [
    {
     "name": "stdout",
     "output_type": "stream",
     "text": [
      "Image array : \n",
      "[[170 173 177 ... 190 190 190]\n",
      " [170 173 177 ... 190 190 190]\n",
      " [173 175 179 ... 190 190 190]\n",
      " ...\n",
      " [184 207 226 ... 227 235 243]\n",
      " [179 195 206 ... 231 239 247]\n",
      " [173 182 184 ... 233 241 249]] \n",
      "\n",
      " Shape (height * width) : (288, 216)\n",
      "Pixel in r3 c3 : 179\n"
     ]
    }
   ],
   "source": [
    "#cat1 = cv2.imread(\"Data/Image samples/cat1.png\", 0)\n",
    "#print(cat1.shape())\n",
    "\n",
    "# To read image from disk in grey band \n",
    "img = cv2.imread(\"Img_analysis/cat1.png\", 0)\n",
    "print(f'Image array : \\n{img} \\n\\n Shape (height * width) : {img.shape}')\n",
    "\n",
    "# Read pixel value of the third row , third column , indexing starts at 0 \n",
    "print(f'Pixel in r3 c3 : {img[2,2]}')"
   ]
  },
  {
   "cell_type": "code",
   "execution_count": 3,
   "metadata": {},
   "outputs": [],
   "source": [
    "# Display a function to display image in a window \n",
    "\n",
    "\n",
    "# Function\n",
    "def wind(img):\n",
    "    # 1.Define window nmae and its size \n",
    "    cv2.namedWindow(\"image\", cv2.WINDOW_NORMAL)\n",
    "\n",
    "    # 2. Create window to display \n",
    "    cv2.imshow(\"image\", img)\n",
    "\n",
    "    # 3. Hold window for 5 sec or 5000 miliseconds\n",
    "    # If value is 0 the window will be indefinate  \n",
    "    cv2.waitKey(0)\n",
    "\n",
    "    # 4. Remove the gui from the screen \n",
    "    cv2.destroyAllWindows()\n",
    "\n",
    "\n",
    "# Call function \n",
    "wind(img)"
   ]
  },
  {
   "cell_type": "code",
   "execution_count": 4,
   "metadata": {},
   "outputs": [
    {
     "name": "stdout",
     "output_type": "stream",
     "text": [
      "(288, 216, 3)\n"
     ]
    }
   ],
   "source": [
    "# Display image in RGB format \n",
    "\n",
    "cat1 = cv2.imread(\"Img_analysis/cat1.png\", 1)\n",
    "wind(cat1)\n",
    "\n",
    "print(cat1.shape)"
   ]
  },
  {
   "cell_type": "code",
   "execution_count": 5,
   "metadata": {},
   "outputs": [],
   "source": [
    "# Draw a circle at coordinates 100, 120\n",
    "\n",
    "# Create a copy of the image to prevent repeated circle drawings \n",
    "cat1_cpy = deepcopy(cat1)\n",
    "# Define center coordinates, circle radius, colour combination(BGR format), and thicknes\n",
    "circle1 = cv2.circle(cat1_cpy, (100, 120), 50, (20, 10, 200), 10)\n",
    "wind(circle1)"
   ]
  },
  {
   "cell_type": "markdown",
   "metadata": {},
   "source": [
    "# 2. Events.\n",
    "\n",
    "OpenCV sometimes helps to control and manage different types of mouse events and gives us the flexibility to manage them, they include left click, right click, or double click. Such events can be managed when the window is opened by calling callback functions with commands of behavour needed. "
   ]
  },
  {
   "cell_type": "code",
   "execution_count": 6,
   "metadata": {},
   "outputs": [],
   "source": [
    "# Lets write a code that spots the differences in the following two images.\n",
    "double = cv2.imread(\"Img_analysis/double_cat.png\", 1)\n",
    "wind(double)"
   ]
  },
  {
   "cell_type": "markdown",
   "metadata": {},
   "source": [
    "<center><img src=\"../Image_Processing/Img_analysis/double_cat.png\" width=600px height=300px /></center>\n",
    "\n"
   ]
  },
  {
   "cell_type": "code",
   "execution_count": 7,
   "metadata": {},
   "outputs": [
    {
     "ename": "KeyboardInterrupt",
     "evalue": "",
     "output_type": "error",
     "traceback": [
      "\u001b[1;31m---------------------------------------------------------------------------\u001b[0m",
      "\u001b[1;31mKeyboardInterrupt\u001b[0m                         Traceback (most recent call last)",
      "Cell \u001b[1;32mIn[7], line 20\u001b[0m\n\u001b[0;32m     18\u001b[0m \u001b[38;5;28;01mwhile\u001b[39;00m \u001b[38;5;28;01mTrue\u001b[39;00m:\n\u001b[0;32m     19\u001b[0m     cv2\u001b[38;5;241m.\u001b[39mimshow(\u001b[38;5;124m\"\u001b[39m\u001b[38;5;124mdifferences\u001b[39m\u001b[38;5;124m\"\u001b[39m, double_cpy)\n\u001b[1;32m---> 20\u001b[0m     a \u001b[38;5;241m=\u001b[39m \u001b[43mcv2\u001b[49m\u001b[38;5;241;43m.\u001b[39;49m\u001b[43mwaitKey\u001b[49m\u001b[43m(\u001b[49m\u001b[38;5;241;43m1000\u001b[39;49m\u001b[43m)\u001b[49m       \u001b[38;5;66;03m# wait for one second\u001b[39;00m\n\u001b[0;32m     22\u001b[0m     \u001b[38;5;66;03m# Break loop using escape key(code 27)\u001b[39;00m\n\u001b[0;32m     23\u001b[0m     \u001b[38;5;28;01mif\u001b[39;00m a \u001b[38;5;241m==\u001b[39m \u001b[38;5;241m27\u001b[39m: \n",
      "\u001b[1;31mKeyboardInterrupt\u001b[0m: "
     ]
    },
    {
     "ename": "",
     "evalue": "",
     "output_type": "error",
     "traceback": [
      "\u001b[1;31mThe Kernel crashed while executing code in the current cell or a previous cell. \n",
      "\u001b[1;31mPlease review the code in the cell(s) to identify a possible cause of the failure. \n",
      "\u001b[1;31mClick <a href='https://aka.ms/vscodeJupyterKernelCrash'>here</a> for more info. \n",
      "\u001b[1;31mView Jupyter <a href='command:jupyter.viewOutput'>log</a> for further details."
     ]
    }
   ],
   "source": [
    "# Create a copy of original images\n",
    "double_cpy = deepcopy(double)\n",
    "\n",
    "# Draw a circle in the event of a double click\n",
    "def drawCircleEvent(event, x, y, flags, param):\n",
    "    if event == cv2.EVENT_LBUTTONDBLCLK:\n",
    "        # Draw circle \n",
    "        cv2.circle(double_cpy, (x, y), 50, (20, 10, 200), 10)\n",
    "\n",
    "# Define window \n",
    "cv2.namedWindow(\"differences\", cv2.WINDOW_NORMAL)\n",
    "\n",
    "# Attach event \n",
    "cv2.setMouseCallback(\"differences\", drawCircleEvent)\n",
    "\n",
    "\n",
    "# Use a while loop to keep the window continous \n",
    "while True:\n",
    "    cv2.imshow(\"differences\", double_cpy)\n",
    "    a = cv2.waitKey(1000)       # wait for one second\n",
    "    \n",
    "    # Break loop using escape key(code 27)\n",
    "    if a == 27: \n",
    "        break\n",
    "    \n",
    "# Destroy all windows when loop stops \n",
    "cv2.destroyAllWindows()"
   ]
  },
  {
   "cell_type": "markdown",
   "metadata": {},
   "source": [
    "## 3. Splitting Channels. "
   ]
  },
  {
   "cell_type": "code",
   "execution_count": 6,
   "metadata": {},
   "outputs": [],
   "source": [
    "# Read image \n",
    "cat3 = cv2.imread(\"Img_analysis/cat2.png\", 1)\n",
    "# wind(cat3)\n",
    "\n",
    "# Split bands to individual ones \n",
    "b,g,r = cv2.split(cat3)"
   ]
  },
  {
   "cell_type": "code",
   "execution_count": 10,
   "metadata": {},
   "outputs": [
    {
     "name": "stdout",
     "output_type": "stream",
     "text": [
      "IMAGE : \n",
      " [[[ 2  0  0]\n",
      "  [ 2  0  0]\n",
      "  [ 2  0  0]\n",
      "  ...\n",
      "  [ 0  0  5]\n",
      "  [ 0  0  5]\n",
      "  [ 0  0  6]]\n",
      "\n",
      " [[ 2  0  0]\n",
      "  [ 2  0  0]\n",
      "  [ 2  0  0]\n",
      "  ...\n",
      "  [ 0  0  5]\n",
      "  [ 0  0  5]\n",
      "  [ 0  0  6]]\n",
      "\n",
      " [[ 2  0  0]\n",
      "  [ 2  0  0]\n",
      "  [ 2  0  0]\n",
      "  ...\n",
      "  [ 0  0  5]\n",
      "  [ 0  0  5]\n",
      "  [ 0  0  6]]\n",
      "\n",
      " ...\n",
      "\n",
      " [[45 58 80]\n",
      "  [22 36 58]\n",
      "  [ 4 20 43]\n",
      "  ...\n",
      "  [15 24 33]\n",
      "  [ 4 13 22]\n",
      "  [ 0  5 14]]\n",
      "\n",
      " [[46 59 81]\n",
      "  [20 33 55]\n",
      "  [ 1 15 38]\n",
      "  ...\n",
      "  [17 26 35]\n",
      "  [ 2  9 18]\n",
      "  [ 2  9 18]]\n",
      "\n",
      " [[49 60 82]\n",
      "  [18 31 53]\n",
      "  [ 0 14 37]\n",
      "  ...\n",
      "  [20 28 35]\n",
      "  [ 4 10 17]\n",
      "  [18 24 31]]] \n",
      "---------------\n",
      "\n",
      "Sample band : \n",
      " [[ 0  0  0 ...  5  5  6]\n",
      " [ 0  0  0 ...  5  5  6]\n",
      " [ 0  0  0 ...  5  5  6]\n",
      " ...\n",
      " [80 58 43 ... 33 22 14]\n",
      " [81 55 38 ... 35 18 18]\n",
      " [82 53 37 ... 35 17 31]] \n",
      "----------\n",
      "\n"
     ]
    }
   ],
   "source": [
    "# View whole image \n",
    "print(f'IMAGE : \\n {cat3} \\n---------------\\n')\n",
    "\n",
    "# View a band\n",
    "print(f'Sample band : \\n {r} \\n----------\\n')"
   ]
  },
  {
   "cell_type": "code",
   "execution_count": 11,
   "metadata": {},
   "outputs": [],
   "source": [
    "# Display coloured image \n",
    "wind(cat3)"
   ]
  },
  {
   "cell_type": "markdown",
   "metadata": {},
   "source": [
    "<center><img src=\"../Image_Processing/Img_analysis/cat2.png\" width=600px height=300px /></center>"
   ]
  },
  {
   "cell_type": "code",
   "execution_count": 12,
   "metadata": {},
   "outputs": [],
   "source": [
    "# Find the difference between green and red bands \n",
    "wind(g-r)"
   ]
  },
  {
   "cell_type": "markdown",
   "metadata": {},
   "source": [
    "<center><img src=\"../Image_Processing/Img_analysis/G-R_band.png\" width=600px height=300px /></center>"
   ]
  },
  {
   "cell_type": "markdown",
   "metadata": {},
   "source": [
    "## 4. Resizing, Cropping and Exporting Image."
   ]
  },
  {
   "cell_type": "code",
   "execution_count": null,
   "metadata": {},
   "outputs": [],
   "source": []
  }
 ],
 "metadata": {
  "kernelspec": {
   "display_name": "Python 3",
   "language": "python",
   "name": "python3"
  },
  "language_info": {
   "codemirror_mode": {
    "name": "ipython",
    "version": 3
   },
   "file_extension": ".py",
   "mimetype": "text/x-python",
   "name": "python",
   "nbconvert_exporter": "python",
   "pygments_lexer": "ipython3",
   "version": "3.12.2"
  }
 },
 "nbformat": 4,
 "nbformat_minor": 2
}
