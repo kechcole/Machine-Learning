{
 "cells": [
  {
   "cell_type": "markdown",
   "metadata": {},
   "source": [
    "# OPEN CV2.\n",
    "\n",
    "Opencv is a python wrapper used in machine learning, computer vision, and image processing. This module is commonly used for object detection in images and videos. When intergrated with other open source python libraries such as numpy and  matplotlib it can be optimized for powerful tasks sucj as face and handwritten notes detection.\n",
    "\n",
    "\n",
    "\n",
    "## 1. Basic Operations."
   ]
  },
  {
   "cell_type": "code",
   "execution_count": 20,
   "metadata": {},
   "outputs": [],
   "source": [
    "# Import modules\n",
    "\n",
    "import cv2 \n",
    "import numpy as np \n",
    "import matplotlib as plt\n",
    "from copy import deepcopy\n",
    "\n",
    "import warnings\n",
    "warnings.filterwarnings('ignore')"
   ]
  },
  {
   "cell_type": "code",
   "execution_count": 23,
   "metadata": {},
   "outputs": [
    {
     "name": "stdout",
     "output_type": "stream",
     "text": [
      "Image array : \n",
      "[[170 173 177 ... 190 190 190]\n",
      " [170 173 177 ... 190 190 190]\n",
      " [173 175 179 ... 190 190 190]\n",
      " ...\n",
      " [184 207 226 ... 227 235 243]\n",
      " [179 195 206 ... 231 239 247]\n",
      " [173 182 184 ... 233 241 249]] \n",
      "\n",
      " Shape (height * width) : (288, 216)\n",
      "Pixel in r3 c3 : 179\n"
     ]
    }
   ],
   "source": [
    "# Read cat images. \n",
    "path = \"F:\\Programs\\Secrets of ML\\ML Github\\Machine-Learning\\Data\\Image samples\"\n",
    "\n",
    "#cat1 = cv2.imread(\"Data/Image samples/cat1.png\", 0)\n",
    "#print(cat1.shape())\n",
    "\n",
    "# To read image from disk in grey band \n",
    "img = cv2.imread(path + \"\\cat1.png\", 0)\n",
    "print(f'Image array : \\n{img} \\n\\n Shape (height * width) : {img.shape}')\n",
    "\n",
    "# Read pixel value of the third row , third column , indexing starts at 0 \n",
    "print(f'Pixel in r3 c3 : {img[2,2]}')\n",
    "\n",
    "\n",
    " \n"
   ]
  },
  {
   "cell_type": "code",
   "execution_count": 24,
   "metadata": {},
   "outputs": [],
   "source": [
    "# Display a function to display image in a window \n",
    "\n",
    "\n",
    "# Function\n",
    "def wind(img):\n",
    "    # 1.Define window nmae and its size \n",
    "    cv2.namedWindow(\"image\", cv2.WINDOW_NORMAL)\n",
    "\n",
    "    # 2. Create window to display \n",
    "    cv2.imshow(\"image\", img)\n",
    "\n",
    "    # 3. Hold window for 5 sec or 5000 miliseconds\n",
    "    # If value is 0 the window will be indefinate  \n",
    "    cv2.waitKey(0)\n",
    "\n",
    "    # 4. Remove the gui from the screen \n",
    "    cv2.destroyAllWindows()\n",
    "\n",
    "\n",
    "# Call function \n",
    "wind(img)"
   ]
  },
  {
   "cell_type": "code",
   "execution_count": 25,
   "metadata": {},
   "outputs": [
    {
     "name": "stdout",
     "output_type": "stream",
     "text": [
      "(288, 216, 3)\n"
     ]
    }
   ],
   "source": [
    "# Display image in RGB format \n",
    "\n",
    "cat1 = cv2.imread(path + \"\\cat1.png\", 1)\n",
    "wind(cat1)\n",
    "\n",
    "print(cat1.shape)"
   ]
  },
  {
   "cell_type": "code",
   "execution_count": 28,
   "metadata": {},
   "outputs": [],
   "source": [
    "# Draw a circle at coordinates 100, 120\n",
    "\n",
    "# Create a copy of the image to prevent repeated circle drawings \n",
    "cat1_cpy = deepcopy(cat1)\n",
    "# Define center coordinates, circle radius, colour combination(BGR format), and thicknes\n",
    "circle1 = cv2.circle(cat1_cpy, (100, 120), 50, (20, 10, 200), 10)\n",
    "wind(circle1)"
   ]
  }
 ],
 "metadata": {
  "kernelspec": {
   "display_name": "Python 3",
   "language": "python",
   "name": "python3"
  },
  "language_info": {
   "codemirror_mode": {
    "name": "ipython",
    "version": 3
   },
   "file_extension": ".py",
   "mimetype": "text/x-python",
   "name": "python",
   "nbconvert_exporter": "python",
   "pygments_lexer": "ipython3",
   "version": "3.12.2"
  }
 },
 "nbformat": 4,
 "nbformat_minor": 2
}
